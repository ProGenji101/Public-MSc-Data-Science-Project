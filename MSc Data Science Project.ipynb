{
  "nbformat": 4,
  "nbformat_minor": 0,
  "metadata": {
    "colab": {
      "provenance": [],
      "toc_visible": true,
      "authorship_tag": "ABX9TyMmO9mqPH0/NhuBnDmJw6DA",
      "include_colab_link": true
    },
    "kernelspec": {
      "name": "python3",
      "display_name": "Python 3"
    },
    "language_info": {
      "name": "python"
    }
  },
  "cells": [
    {
      "cell_type": "markdown",
      "metadata": {
        "id": "view-in-github",
        "colab_type": "text"
      },
      "source": [
        "<a href=\"https://colab.research.google.com/github/ProGenji101/Public-MSc-Data-Science-Project/blob/main/MSc%20Data%20Science%20Project.ipynb\" target=\"_parent\"><img src=\"https://colab.research.google.com/assets/colab-badge.svg\" alt=\"Open In Colab\"/></a>"
      ]
    },
    {
      "cell_type": "markdown",
      "source": [
        "# Downloading Data"
      ],
      "metadata": {
        "id": "KigQOam9-dBL"
      }
    },
    {
      "cell_type": "code",
      "source": [
        "import sqlite3\n",
        "import numpy as np\n",
        "import pandas as pd\n",
        "import matplotlib.pyplot as plt\n",
        "\n",
        "import warnings\n",
        "warnings.filterwarnings('ignore')\n"
      ],
      "metadata": {
        "id": "mps6lSSdB2iF"
      },
      "execution_count": null,
      "outputs": []
    },
    {
      "cell_type": "markdown",
      "source": [
        "# FTSE All shares 1970- Present\n"
      ],
      "metadata": {
        "id": "2df15Ula_xYx"
      }
    },
    {
      "cell_type": "code",
      "source": [
        "import pandas as pd\n",
        "import matplotlib.pyplot as plt\n",
        "import numpy as np\n",
        "\n",
        "# Load the CSV (make sure you match column names)\n",
        "df = pd.read_csv('FTALLSH.csv', parse_dates=['Date'], index_col='Date')\n",
        "\n",
        "# Preview\n",
        "print(df.head())\n",
        "\n",
        "# Plot the index value\n",
        "df['Price'].plot(title='FTSE All-Share Index (1970–Present)', figsize=(12,6))\n",
        "plt.ylabel(\"Index Value\")\n",
        "plt.show()\n",
        "\n",
        "# Calculate log returns\n",
        "df['LogReturn'] = np.log(df['Price']).diff()"
      ],
      "metadata": {
        "id": "ybIwB72o_4kU"
      },
      "execution_count": null,
      "outputs": []
    },
    {
      "cell_type": "markdown",
      "source": [
        "# GDP Per capita as alternative earnings"
      ],
      "metadata": {
        "id": "PUogTY3-BGLD"
      }
    },
    {
      "cell_type": "code",
      "source": [],
      "metadata": {
        "id": "30Lhpn1mBMTx"
      },
      "execution_count": null,
      "outputs": []
    },
    {
      "cell_type": "markdown",
      "source": [
        "# Bornholdt simulation for demonstration\n"
      ],
      "metadata": {
        "id": "IFniVS4T-jh7"
      }
    },
    {
      "cell_type": "code",
      "source": [
        "import sqlite3\n",
        "import numpy as np\n",
        "import pandas as pd\n",
        "import matplotlib.pyplot as plt\n",
        "\n",
        "import warnings\n",
        "warnings.filterwarnings('ignore')\n",
        "\n",
        "# Parameters\n",
        "N = 50  # lattice size: NxN\n",
        "steps = 500  # simulation time steps\n",
        "J = 1.0  # local interaction strength\n",
        "alpha = 0.01  # global coupling strength\n",
        "T = 2.0  # temperature/noise factor\n",
        "\n",
        "# Initialize spins randomly (buy: +1, sell: -1)\n",
        "spins = np.random.choice([-1, 1], size=(N, N))\n",
        "\n",
        "# Store magnetization history\n",
        "magnetization = []\n",
        "\n",
        "# Glauber update rule function\n",
        "def glauber_flip(spins, J, alpha, T):\n",
        "    N = spins.shape[0]\n",
        "    for _ in range(N**2):  # Update each spin once per step on average\n",
        "        i, j = np.random.randint(0, N, size=2)\n",
        "        # Sum of neighbor spins\n",
        "        neighbors = spins[(i+1)%N, j] + spins[i, (j+1)%N] + \\\n",
        "                    spins[(i-1)%N, j] + spins[i, (j-1)%N]\n",
        "\n",
        "        # Local energy difference\n",
        "        dE_local = 2 * J * spins[i, j] * neighbors\n",
        "        # Global magnetization influence\n",
        "        M = np.sum(spins)\n",
        "        dE_global = 2 * alpha * spins[i, j] * M\n",
        "\n",
        "        dE = dE_local + dE_global\n",
        "\n",
        "        # Glauber flip probability\n",
        "        if dE <= 0 or np.random.rand() < np.exp(-dE / T):\n",
        "            spins[i, j] *= -1\n",
        "\n",
        "# Simulation loop\n",
        "for step in range(steps):\n",
        "    glauber_flip(spins, J, alpha, T)\n",
        "    # Calculate and store magnetization\n",
        "    M = np.sum(spins) / (N*N)\n",
        "    magnetization.append(M)\n",
        "\n",
        "# Generate synthetic prices from magnetization\n",
        "lambda_ = 5  # market impact factor\n",
        "prices = np.exp(lambda_ * np.array(magnetization))\n",
        "returns = np.diff(np.log(prices))\n",
        "\n",
        "# Plotting results\n",
        "plt.figure(figsize=(12, 8))\n",
        "\n",
        "plt.subplot(3, 1, 1)\n",
        "plt.plot(magnetization, color='blue')\n",
        "plt.title('Magnetization (Market Sentiment)')\n",
        "plt.ylabel('Magnetization')\n",
        "\n",
        "plt.subplot(3, 1, 2)\n",
        "plt.plot(prices, color='green')\n",
        "plt.title('Synthetic Price Series')\n",
        "plt.ylabel('Price')\n",
        "\n",
        "plt.subplot(3, 1, 3)\n",
        "plt.plot(returns, color='red')\n",
        "plt.title('Synthetic Return Series')\n",
        "plt.ylabel('Returns')\n",
        "plt.xlabel('Time Steps')\n",
        "\n",
        "plt.tight_layout()\n",
        "plt.show()"
      ],
      "metadata": {
        "id": "aGGavydH-uq_"
      },
      "execution_count": null,
      "outputs": []
    },
    {
      "cell_type": "markdown",
      "source": [
        "# Downloading Data\n"
      ],
      "metadata": {
        "id": "_2Fpjkn6j5gi"
      }
    },
    {
      "cell_type": "code",
      "source": [
        "df = pd.read_csv(\"bcs70_data.csv\")\n",
        "df.head()"
      ],
      "metadata": {
        "id": "olbhLL6hkCxs"
      },
      "execution_count": null,
      "outputs": []
    }
  ]
}